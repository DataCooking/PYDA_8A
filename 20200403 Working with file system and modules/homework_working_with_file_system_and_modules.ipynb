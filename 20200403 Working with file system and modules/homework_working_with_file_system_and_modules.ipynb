{
 "cells": [
  {
   "cell_type": "markdown",
   "metadata": {},
   "source": [
    "# Домашнее задание\n",
    "1. Переведите содержимое файла purchase_log.txt в словарь purchases вида:\n",
    "```python\n",
    "{'1840e0b9d4': 'Продукты', ...}\n",
    "```\n",
    "\n",
    "2. Для каждого user_id в файле visit_log.csv определите третий столбец с категорией покупки (если покупка была, сам файл visit_log.csv изменять не надо). Запишите в файл funnel.csv визиты из файла visit_log.csv, в которых были покупки с указанием категории.\n",
    "\n",
    "Учтите условия на данные:\n",
    "- содержимое purchase_log.txt помещается в оперативную память компьютера\n",
    "- содержимое visit_log.csv - нет; используйте только построчную обработку этого файла"
   ]
  },
  {
   "cell_type": "code",
   "execution_count": null,
   "metadata": {},
   "outputs": [],
   "source": [
    "purchase = open('purchase_log.txt', 'r', encoding='utf-8')"
   ]
  },
  {
   "cell_type": "code",
   "execution_count": null,
   "metadata": {},
   "outputs": [],
   "source": [
    "#First Part\n",
    "import json\n",
    "content = purchase.readlines()\n",
    "result_dict_purchse = {}\n",
    "for lines in content[1:10]:\n",
    "        result_dict_purchse[json.loads(lines.strip())['user_id']] = json.loads(lines.strip())['category'] "
   ]
  },
  {
   "cell_type": "code",
   "execution_count": null,
   "metadata": {},
   "outputs": [],
   "source": [
    "#Second Part\n",
    "visits = open('visit_log.csv', 'r', encoding='utf-8')\n",
    "final_result={}\n",
    "purchase_keys = result_dict_purchse.keys()\n",
    "import csv\n",
    "\n",
    "with open('funnel.csv', mode='w', encoding='utf-8' ) as csv_file:\n",
    "    fieldnames = ['ID', 'SOURCE', 'PURCHASE_CATEGORY']\n",
    "    writer = csv.DictWriter(csv_file, fieldnames=fieldnames)\n",
    "    writer.writeheader()\n",
    "\n",
    "    for v in visits:\n",
    "        element = v.strip().split(',')[0]\n",
    "        if element in purchase_keys:\n",
    "            final_result['ID'] = element\n",
    "            final_result['SOURCE'] = v.strip().split(',')[1]\n",
    "            final_result['PURCHASE_CATEGORY'] = result_dict_purchse[element]\n",
    "            writer.writerow(final_result)\n",
    "            "
   ]
  }
 ],
 "metadata": {
  "kernelspec": {
   "display_name": "Python 3",
   "language": "python",
   "name": "python3"
  },
  "language_info": {
   "codemirror_mode": {
    "name": "ipython",
    "version": 3
   },
   "file_extension": ".py",
   "mimetype": "text/x-python",
   "name": "python",
   "nbconvert_exporter": "python",
   "pygments_lexer": "ipython3",
   "version": "3.7.4"
  }
 },
 "nbformat": 4,
 "nbformat_minor": 2
}
