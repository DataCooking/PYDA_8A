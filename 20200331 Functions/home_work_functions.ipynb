{
 "cells": [
  {
   "cell_type": "markdown",
   "metadata": {},
   "source": [
    "Вы работаете секретарем и вам постоянно приходят различные документы. Вы должны быть очень внимательны, чтобы не потерять ни один документ. Каталог документов хранится в следующем виде:"
   ]
  },
  {
   "cell_type": "code",
   "execution_count": null,
   "metadata": {},
   "outputs": [],
   "source": [
    "documents = [\n",
    "    {'type': 'passport', 'number': '2207 876234', 'name': 'Василий Гупкин'},\n",
    "    {'type': 'invoice', 'number': '11-2', 'name': 'Геннадий Покемонов'},\n",
    "    {'type': 'insurance', 'number': '10006', 'name': 'Аристарх Павлов'}\n",
    "]"
   ]
  },
  {
   "cell_type": "markdown",
   "metadata": {},
   "source": [
    "Перечень полок, на которых находятся документы хранится в следующем виде:"
   ]
  },
  {
   "cell_type": "code",
   "execution_count": null,
   "metadata": {},
   "outputs": [],
   "source": [
    "directories = {\n",
    "    '1': ['2207 876234', '11-2'],\n",
    "    '2': ['10006'],\n",
    "    '3': []\n",
    "}"
   ]
  },
  {
   "cell_type": "markdown",
   "metadata": {},
   "source": [
    "Необходимо реализовать пользовательские команды (внимание! это не название функций, которые должны быть выразительными, а команды, которые вводит пользователь, чтобы получить необходимый результат):\n",
    "  \n",
    "- p – people – команда, которая спросит номер документа и выведет имя человека, которому он принадлежит;  \n",
    "- s – shelf – команда, которая спросит номер документа и выведет номер полки, на которой он находится  \n",
    "Правильно обработайте ситуацию, когда пользователь будет вводить несуществующий документ.\n",
    "- l – list – команда, которая выведет список всех документов в формате   \n",
    "**passport \"2207 876234\" \"Василий Гупкин\"**  \n",
    "- as – add shelf – команда, которая спросит номер новой полки и добавит ее в перечень\n",
    "- d – delete – команда, которая спросит номер документа и удалит его из каталога и из перечня полок. Предусмотрите сценарий, когда пользователь вводит несуществующий документ;  \n",
    "- m – move – команда, которая спросит номер документа и целевую полку и переместит его с текущей полки на целевую. Корректно обработайте кейсы, когда пользователь пытается переместить несуществующий документ или переместить документ на несуществующую полку;  \n",
    "- a – add – команда, которая добавит новый документ в каталог и в перечень полок, спросив его номер, тип, имя владельца и номер полки, на котором он будет храниться."
   ]
  },
  {
   "cell_type": "code",
   "execution_count": null,
   "metadata": {},
   "outputs": [],
   "source": [
    "#p\n",
    "def get_name_for_the_document(doc=documents):\n",
    "    number_of_document = input(\"Please enter the document number\")\n",
    "    new_dict = {item['number']:item for item in doc}\n",
    "    try:\n",
    "        return print(new_dict[number_of_document]['name'])\n",
    "    except:\n",
    "        print(\"Number doesn´t exist\")"
   ]
  },
  {
   "cell_type": "code",
   "execution_count": null,
   "metadata": {},
   "outputs": [],
   "source": [
    "#s\n",
    "def get_shelf_from_document_number(shelf=directories):\n",
    "    number_of_document = input(\"Please enter the document number\")\n",
    "    for s_key,s_value in shelf.items():\n",
    "        if number_of_document in s_value:\n",
    "            return print(s_key)\n",
    "    return print('not found')"
   ]
  },
  {
   "cell_type": "code",
   "execution_count": null,
   "metadata": {},
   "outputs": [],
   "source": [
    "#l\n",
    "def get_all_documents(doc=documents):\n",
    "    list_of_values = ''\n",
    "    for item in documents:\n",
    "        for k,v in item.items():\n",
    "            if k=='type':\n",
    "                list_of_values +=str(v)\n",
    "            else:\n",
    "                list_of_values +='\"'+str(v)+'\"'\n",
    "        list_of_values +=\"\\n\"   \n",
    "    return print(list_of_values)"
   ]
  },
  {
   "cell_type": "code",
   "execution_count": null,
   "metadata": {},
   "outputs": [],
   "source": [
    "#as\n",
    "def set_new_shelf(shelf=directories):\n",
    "    number_of_shelf = input(\"Please enter the new shelf number\")\n",
    "    shelf.setdefault(number_of_shelf, [])\n",
    "    return shelf"
   ]
  },
  {
   "cell_type": "code",
   "execution_count": null,
   "metadata": {},
   "outputs": [],
   "source": [
    "#d\n",
    "def delete_document(doc=documents, shelf=directories):\n",
    "    number_of_document = input(\"Please enter the document number\")\n",
    "    \n",
    "    #delete from documents\n",
    "    global documents\n",
    "    \n",
    "    new_dict = {item['number']:item for item in doc}\n",
    "    try:\n",
    "        del new_dict[number_of_document]\n",
    "    except:\n",
    "        print(\"Number doesn´t exist\")\n",
    "    documents = [values for values in new_dict.values()]\n",
    "    \n",
    "    #delete from shelfs\n",
    "    for k,v in shelf.items():\n",
    "        if number_of_document in v:\n",
    "            shelf[k] = v.remove(number_of_document)\n",
    "        if shelf[k] is None:\n",
    "            shelf[k] = []\n",
    "             \n",
    "    return documents, shelf\n",
    "\n"
   ]
  },
  {
   "cell_type": "code",
   "execution_count": null,
   "metadata": {},
   "outputs": [],
   "source": [
    "#m\n",
    "\n",
    "def move_documnet_to_different_shelf(shelf=directories):\n",
    "    number_of_document = input(\"Please enter the document number\")\n",
    "    shelf_num = 0\n",
    "    number_of_doc = 0\n",
    "    \n",
    "    for k,v in shelf.items():\n",
    "            if number_of_document in v:\n",
    "                number_of_doc = number_of_document\n",
    "    \n",
    "    if number_of_doc:\n",
    "        pass\n",
    "    else: return (\"document not found\") \n",
    "    \n",
    "        \n",
    "    shelf_number = input(\"Please enter the shelf number\")\n",
    "  \n",
    "    for k in shelf.keys():\n",
    "        if shelf_number in k:\n",
    "            shelf_num = shelf_number\n",
    "    \n",
    "    if shelf_num:\n",
    "        pass\n",
    "    else: return (\"shelf not found\") \n",
    "    \n",
    "    if number_of_document in shelf[shelf_number]:\n",
    "        print(\"the document is alredy in the right shelf\")\n",
    "    elif shelf_number in shelf.keys():\n",
    "        for k,v in shelf.items():\n",
    "            if number_of_document in v:\n",
    "                shelf[k] = v.remove(number_of_document)\n",
    "            if shelf[k] is None:\n",
    "                shelf[k] = []\n",
    "        \n",
    "        shelf[shelf_number].append(number_of_document)\n",
    "    else: return ('shelf number is not exists')\n",
    "        \n",
    "    return shelf\n"
   ]
  },
  {
   "cell_type": "code",
   "execution_count": null,
   "metadata": {},
   "outputs": [],
   "source": [
    "#a\n",
    "\n",
    "def  add_new_document(shelf=directories, doc=documents):\n",
    "    shelf_num = 0\n",
    "       \n",
    "    number_of_document = input(\"Please enter the document number\")\n",
    "    \n",
    "    for k,v in shelf.items():\n",
    "            if number_of_document in v:\n",
    "                return print(\"document already exists\")\n",
    "            \n",
    "     \n",
    "    shelf_number = input(\"Please enter the shelf number\")\n",
    "    \n",
    "    for k in shelf.keys():\n",
    "        if shelf_number in k:\n",
    "            shelf_num = shelf_number\n",
    "    \n",
    "    if shelf_num:\n",
    "        pass\n",
    "    else: return (\"shelf not found\") \n",
    "    \n",
    "    \n",
    "    type_ = input(\"Please enter type\")\n",
    "    name_ = input(\"Please enter name\")\n",
    "    \n",
    "    shelf[shelf_num].append(number_of_document)\n",
    "    \n",
    "    new_item = {}\n",
    "    \n",
    "    new_item ['number'] = number_of_document\n",
    "    new_item ['type'] = type_\n",
    "    new_item ['name'] = name_\n",
    "    \n",
    "    doc.append(new_item)\n",
    "    \n",
    "    return shelf, doc\n"
   ]
  },
  {
   "cell_type": "code",
   "execution_count": null,
   "metadata": {},
   "outputs": [],
   "source": [
    "def what_the_master_needs():\n",
    "    while True:\n",
    "        the_wish = input(\"Please enter the letter of the function you with to call:\")\n",
    "        if the_wish =='p':\n",
    "            get_name_for_the_document()\n",
    "        elif the_wish =='s':\n",
    "            get_shelf_from_document_number()\n",
    "        elif the_wish =='l':\n",
    "            get_all_documents()\n",
    "        elif the_wish =='as':\n",
    "            set_new_shelf()\n",
    "        elif the_wish =='d':\n",
    "            delete_document()\n",
    "        elif the_wish =='m':\n",
    "            move_documnet_to_different_shelf()\n",
    "        elif the_wish =='a':\n",
    "            add_new_document()\n",
    "        elif the_wish == 'q': \n",
    "            print('See you')\n",
    "            break\n",
    "what_the_master_needs()"
   ]
  }
 ],
 "metadata": {
  "kernelspec": {
   "display_name": "Python 3",
   "language": "python",
   "name": "python3"
  },
  "language_info": {
   "codemirror_mode": {
    "name": "ipython",
    "version": 3
   },
   "file_extension": ".py",
   "mimetype": "text/x-python",
   "name": "python",
   "nbconvert_exporter": "python",
   "pygments_lexer": "ipython3",
   "version": "3.7.4"
  }
 },
 "nbformat": 4,
 "nbformat_minor": 2
}
