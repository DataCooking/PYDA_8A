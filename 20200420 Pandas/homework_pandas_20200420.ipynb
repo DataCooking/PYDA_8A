{
 "cells": [
  {
   "cell_type": "markdown",
   "metadata": {},
   "source": [
    "Задание 1\n",
    "Скачайте с сайта https://grouplens.org/datasets/movielens/ датасет любого размера. Определите какому фильму было выставлено больше всего оценок 5.0."
   ]
  },
  {
   "cell_type": "code",
   "execution_count": 1,
   "metadata": {},
   "outputs": [
    {
     "name": "stdout",
     "output_type": "stream",
     "text": [
      "      movieId                             title       genres\n",
      "9711   187717  Won't You Be My Neighbor? (2018)  Documentary\n",
      "rating                  5.0\n",
      "movieId            187717.0\n",
      "number_of_users       153.0\n",
      "dtype: float64\n"
     ]
    }
   ],
   "source": [
    "import pandas as pd\n",
    "\n",
    "df = pd.read_csv('ratings.csv')\n",
    "\n",
    "df = df[df.rating==5].groupby([\"rating\",\"movieId\"])[\"userId\"].count().to_frame(name=\"number_of_users\").reset_index().sort_values(\"number_of_users\").max()\n",
    "\n",
    "movieId_with_most_5=df[1]\n",
    "\n",
    "df_movies = pd.read_csv('movies.csv')\n",
    "df_movies=df_movies[df_movies.movieId == movieId_with_most_5]\n",
    "\n",
    "print(df_movies)\n",
    "print(df)\n",
    "\n"
   ]
  },
  {
   "cell_type": "markdown",
   "metadata": {},
   "source": [
    "Задание 2\n",
    "По данным файла power.csv посчитайте суммарное потребление стран Прибалтики (Латвия, Литва и Эстония) категорий 4, 12 и 21 за период с 2005 по 2010 года. Не учитывайте в расчетах отрицательные значения quantity."
   ]
  },
  {
   "cell_type": "code",
   "execution_count": 2,
   "metadata": {},
   "outputs": [
    {
     "name": "stdout",
     "output_type": "stream",
     "text": [
      "4909.0\n"
     ]
    }
   ],
   "source": [
    "df_power = pd.read_csv('power.csv')\n",
    "\n",
    "categories = [4,12,21]\n",
    "years = [2005,2006,2007,2008,2009,20010]\n",
    "\n",
    "df_power = df_power[ \n",
    "    (df_power[\"country\"].str.contains(\"Estonia\") \n",
    "    | df_power[\"country\"].str.contains(\"Lithuania\")\n",
    "    | df_power[\"country\"].str.contains(\"Latvia\")\n",
    "    )\n",
    "    &\n",
    "    (df_power[\"category\"].isin(categories))\n",
    "    &\n",
    "    (df_power[\"year\"].isin(years))\n",
    "    &\n",
    "    (df_power.quantity > 0)\n",
    "    \n",
    "\n",
    "]\n",
    "\n",
    "print(df_power[\"quantity\"].max())\n"
   ]
  },
  {
   "cell_type": "markdown",
   "metadata": {},
   "source": [
    "Выберите страницу любого сайта с табличными данными. Импортируйте таблицы в pandas dataframe.\n",
    "Примеры страниц (необязательно брать именно эти):\n",
    "https://fortrader.org/quotes\n",
    "https://www.finanz.ru/valyuty/v-realnom-vremeni"
   ]
  },
  {
   "cell_type": "code",
   "execution_count": 3,
   "metadata": {},
   "outputs": [
    {
     "name": "stdout",
     "output_type": "stream",
     "text": [
      "<class 'pandas.core.frame.DataFrame'>\n",
      "                           Название     Цена  Изменение  Изменение(%)  \\\n",
      "0  EURRUB Курс евро к рублю сегодня  80.0977    -2.0221       -2.4624   \n",
      "1       USDRUB Курс рубля к доллару  73.4195    -2.3956       -3.1598   \n",
      "\n",
      "   Обновлено  \n",
      "0        NaN  \n",
      "1        NaN  \n"
     ]
    }
   ],
   "source": [
    "df_html_table = pd.read_html('https://fortrader.org/quotes')[0]\n",
    "print(type(df_html_table))\n",
    "print(df_html_table)\n",
    "\n"
   ]
  }
 ],
 "metadata": {
  "kernelspec": {
   "display_name": "Python 3",
   "language": "python",
   "name": "python3"
  },
  "language_info": {
   "codemirror_mode": {
    "name": "ipython",
    "version": 3
   },
   "file_extension": ".py",
   "mimetype": "text/x-python",
   "name": "python",
   "nbconvert_exporter": "python",
   "pygments_lexer": "ipython3",
   "version": "3.7.4"
  }
 },
 "nbformat": 4,
 "nbformat_minor": 2
}
