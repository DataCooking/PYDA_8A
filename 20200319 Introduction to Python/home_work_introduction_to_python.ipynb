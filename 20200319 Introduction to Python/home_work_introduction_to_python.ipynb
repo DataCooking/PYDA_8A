{
 "cells": [
  {
   "cell_type": "markdown",
   "metadata": {},
   "source": [
    "**Задание 1**. Даны 2 строки: *long_phrase* и *short_phrase*,\n",
    "    Напишите код, который проверяет действительно ли длинная фраза *long_phrase* длиннее короткой *short_phrase*. И выводит *True* или *False* в зависимости от результата сравнения."
   ]
  },
  {
   "cell_type": "code",
   "execution_count": 1,
   "metadata": {},
   "outputs": [],
   "source": [
    "long_phrase = 'Насколько проще было бы писать программы, если бы не заказчики'\n",
    "short_phrase = '640Кб должно хватить для любых задач. Билл Гейтс (по легенде)'"
   ]
  },
  {
   "cell_type": "code",
   "execution_count": 2,
   "metadata": {},
   "outputs": [
    {
     "name": "stdout",
     "output_type": "stream",
     "text": [
      "True\n"
     ]
    }
   ],
   "source": [
    "if len(long_phrase)>len(short_phrase):\n",
    "    print('True')\n",
    "else:\n",
    "    print('False')"
   ]
  },
  {
   "cell_type": "markdown",
   "metadata": {},
   "source": [
    "**Задание 2**. Дано значение объема файла в байтах (*в мегабайте 2^20 байт*). Напишите перевод этого значения в мегабайты в формате: *Объем файла равен 213.68Mb.*"
   ]
  },
  {
   "cell_type": "code",
   "execution_count": 3,
   "metadata": {},
   "outputs": [
    {
     "name": "stdout",
     "output_type": "stream",
     "text": [
      "Please input file size in bytes1000000\n",
      "Объем файла равен  0.95367431640625 Mb\n"
     ]
    }
   ],
   "source": [
    "user_input_bytes = int(input('Please input file size in bytes'))\n",
    "convert_bytes_in_megabytes = user_input_bytes*(2**-20)\n",
    "print('Объем файла равен ',convert_bytes_in_megabytes,'Mb')"
   ]
  },
  {
   "cell_type": "markdown",
   "metadata": {},
   "source": [
    "**Задание 3**. Разработать приложение для определения знака зодиака по дате рождения\\\n",
    "Пример:\\\n",
    "Введите месяц: март\\\n",
    "Введите число: 6\\\n",
    "Вывод: Рыбы"
   ]
  },
  {
   "cell_type": "code",
   "execution_count": 4,
   "metadata": {},
   "outputs": [
    {
     "name": "stdout",
     "output_type": "stream",
     "text": [
      "Please input month as a number11\n",
      "Sagitarius\n"
     ]
    }
   ],
   "source": [
    "user_input_month = int(input('Please input month as a number'))\n",
    "if user_input_month < 0 or user_input_month > 12:\n",
    "    print('Not a valid months, please input month as a number between 1 and 12')\n",
    "elif user_input_month == 1:\n",
    "    print('Aquarius')\n",
    "elif user_input_month == 2:\n",
    "    print('Pisces')\n",
    "elif user_input_month == 3:\n",
    "    print('Aries')\n",
    "elif user_input_month == 4:\n",
    "    print('Taurus')\n",
    "elif user_input_month == 5:\n",
    "    print('Gemini')\n",
    "elif user_input_month == 6:\n",
    "    print('Cancer')\n",
    "elif user_input_month == 7:\n",
    "    print('Leo')\n",
    "elif user_input_month == 8:\n",
    "    print('Virgo')\n",
    "elif user_input_month == 9:\n",
    "    print('Libra')\n",
    "elif user_input_month == 10:\n",
    "    print('Scorpio')\n",
    "elif user_input_month == 11:\n",
    "    print('Sagitarius')\n",
    "elif user_input_month == 12:\n",
    "    print('Capricon')"
   ]
  },
  {
   "cell_type": "markdown",
   "metadata": {},
   "source": [
    "**Задание 4**. Нужно разработать приложение для финансового планирования. Приложение учитывает сколько уходит на ипотеку, \"на жизнь\" и сколько нужно отложить на пенсию. Пользователь вводит:\n",
    "\n",
    "заработанную плату в месяц.\n",
    "сколько процентов от ЗП уходит на ипотеку.\n",
    "сколько процентов от ЗП уходит \"на жизнь\".\n",
    "сколько раз приходит премия в год.\n",
    "Остальная часть заработанной платы откладывается на пенсию.\n",
    "\n",
    "Также пользователю приходит премия в размере зарплаты, от которой половина уходит на отпуск, а вторая половина откладывается.\n",
    "\n",
    "Программа должна учитывать сколько премий было в год.\n",
    "\n",
    "Нужно вывести сколько денег тратит пользователь на ипотеку и сколько он накопит за год.\n",
    "\n",
    "Пример:\n",
    "\n",
    "Введите заработанную плату в месяц: 100000\n",
    "\n",
    "Введите сколько процентов уходит на ипотеку: 30\n",
    "\n",
    "Введите сколько процентов уходит на жизнь: 50\n",
    "\n",
    "Введите количество премий за год: 2\n",
    "\n",
    "Вывод: На ипотеку было потрачено: 360000 рублей Было накоплено: 340000 рублей"
   ]
  },
  {
   "cell_type": "code",
   "execution_count": 5,
   "metadata": {},
   "outputs": [
    {
     "name": "stdout",
     "output_type": "stream",
     "text": [
      "Введите заработанную плату в месяц:100000\n",
      "Введите сколько процентов уходит на ипотеку:30\n",
      "Введите сколько процентов уходит на жизнь:50\n",
      "Введите количество премий за год:2\n",
      "На ипотеку было потрачено: 360000.0 рублей\n",
      "Было накоплено: 340000.0 рублей\n"
     ]
    }
   ],
   "source": [
    "user_input_salary =int(input('Введите заработанную плату в месяц:'))\n",
    "\n",
    "user_input_mortgage_rate_procent =int(input('Введите сколько процентов уходит на ипотеку:'))\n",
    "\n",
    "user_input_life_expences_procent =int(input('Введите сколько процентов уходит на жизнь:'))\n",
    "\n",
    "user_input_number_of_bonus =int(input('Введите количество премий за год:'))\n",
    "\n",
    "total_earnings=12*user_input_salary+(user_input_number_of_bonus*user_input_salary)\n",
    "\n",
    "mortage_expences = (12*user_input_salary)*(user_input_mortgage_rate_procent/100)\n",
    "\n",
    "life_expences = (12*user_input_salary)*(user_input_life_expences_procent/100)\n",
    "\n",
    "bonus_expences_for_holidays = (user_input_number_of_bonus*user_input_salary)/2\n",
    "\n",
    "total_savings = total_earnings - mortage_expences - life_expences - bonus_expences_for_holidays\n",
    "\n",
    "print('На ипотеку было потрачено:', mortage_expences, 'рублей')\n",
    "\n",
    "print('Было накоплено:', total_savings, 'рублей')\n"
   ]
  },
  {
   "cell_type": "code",
   "execution_count": null,
   "metadata": {},
   "outputs": [],
   "source": []
  }
 ],
 "metadata": {
  "kernelspec": {
   "display_name": "Python 3",
   "language": "python",
   "name": "python3"
  },
  "language_info": {
   "codemirror_mode": {
    "name": "ipython",
    "version": 3
   },
   "file_extension": ".py",
   "mimetype": "text/x-python",
   "name": "python",
   "nbconvert_exporter": "python",
   "pygments_lexer": "ipython3",
   "version": "3.7.4"
  }
 },
 "nbformat": 4,
 "nbformat_minor": 2
}
