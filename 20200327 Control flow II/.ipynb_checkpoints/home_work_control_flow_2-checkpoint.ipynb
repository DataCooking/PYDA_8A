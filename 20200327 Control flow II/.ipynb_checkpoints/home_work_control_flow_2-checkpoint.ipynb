{
 "cells": [
  {
   "cell_type": "markdown",
   "metadata": {},
   "source": [
    "**Задание 1**. Дан список с визитами по городам и странам. \n",
    "Напишите код, который возвращает отфильтрованный список geo_logs, содержащий только визиты из России."
   ]
  },
  {
   "cell_type": "code",
   "execution_count": 54,
   "metadata": {},
   "outputs": [],
   "source": [
    "geo_logs = [\n",
    "    {'visit1': ['Москва', 'Россия']},\n",
    "    {'visit2': ['Дели', 'Индия']},\n",
    "    {'visit3': ['Владимир', 'Россия']},\n",
    "    {'visit4': ['Лиссабон', 'Португалия']},\n",
    "    {'visit5': ['Париж', 'Франция']},\n",
    "    {'visit6': ['Лиссабон', 'Португалия']},\n",
    "    {'visit7': ['Тула', 'Россия']},\n",
    "    {'visit8': ['Тула', 'Россия']},\n",
    "    {'visit9': ['Курск', 'Россия']},\n",
    "    {'visit10': ['Архангельск', 'Россия']}\n",
    "]"
   ]
  },
  {
   "cell_type": "code",
   "execution_count": 55,
   "metadata": {},
   "outputs": [
    {
     "name": "stdout",
     "output_type": "stream",
     "text": [
      "[{'visit1': ['Москва', 'Россия']}, {'visit3': ['Владимир', 'Россия']}, {'visit7': ['Тула', 'Россия']}, {'visit8': ['Тула', 'Россия']}, {'visit9': ['Курск', 'Россия']}, {'visit10': ['Архангельск', 'Россия']}]\n"
     ]
    }
   ],
   "source": [
    "geo_logs_russia = []\n",
    "for listitems in geo_logs:\n",
    "    for list_values in listitems.values():\n",
    "        if list_values[1] == 'Россия':\n",
    "            geo_logs_russia.append(listitems) \n",
    "print(geo_logs_russia)"
   ]
  },
  {
   "cell_type": "markdown",
   "metadata": {},
   "source": [
    "**Задание 2**. Выведите на экран все уникальные гео-ID из значений словаря ids. Т. е. список вида [213, 15, 54, 119, 98, 35]"
   ]
  },
  {
   "cell_type": "code",
   "execution_count": 56,
   "metadata": {},
   "outputs": [],
   "source": [
    "ids = {'user1': [213, 213, 213, 15, 213], \n",
    "       'user2': [54, 54, 119, 119, 119], \n",
    "       'user3': [213, 98, 98, 35]}"
   ]
  },
  {
   "cell_type": "code",
   "execution_count": 57,
   "metadata": {},
   "outputs": [
    {
     "name": "stdout",
     "output_type": "stream",
     "text": [
      "{98, 35, 15, 213, 54, 119}\n"
     ]
    }
   ],
   "source": [
    "result_list = []\n",
    "for values in ids.values():\n",
    "    for items in values:\n",
    "        result_list.append(items)\n",
    "print(set(result_list))"
   ]
  },
  {
   "cell_type": "markdown",
   "metadata": {},
   "source": [
    "**Задание 3**. Дан список поисковых запросов. Получить распределение количества слов в них. \n",
    "Т. е. поисковых запросов из одного - слова 5%, из двух - 7%, из трех - 3% и т.д."
   ]
  },
  {
   "cell_type": "code",
   "execution_count": 58,
   "metadata": {},
   "outputs": [],
   "source": [
    "queries = [\n",
    "    'смотреть сериалы онлайн',\n",
    "    'новости спорта',\n",
    "    'афиша кино',\n",
    "    'курс доллара',\n",
    "    'сериалы этим летом',\n",
    "    'курс по питону',\n",
    "    'сериалы про спорт',\n",
    "]\n"
   ]
  },
  {
   "cell_type": "code",
   "execution_count": 59,
   "metadata": {},
   "outputs": [
    {
     "name": "stdout",
     "output_type": "stream",
     "text": [
      "поисковых запросов из 1 слов(а) 42.857142857142854%\n",
      "поисковых запросов из 2 слов(а) 57.14285714285714%\n",
      "поисковых запросов из одного - слова 0.0%, из двух - 42.857142857142854%, из трех 57.14285714285714% \n"
     ]
    }
   ],
   "source": [
    "list_with_count_of_words =[]\n",
    "for items in queries:\n",
    "    list_with_count_of_words.append(items.count(\" \"))\n",
    "\n",
    "# Variant 1 (universal)\n",
    "    \n",
    "possible_number_of_words = list(set(list_with_count_of_words))\n",
    "for items in possible_number_of_words:\n",
    "    print(f\"поисковых запросов из {items} слов(а) {(list_with_count_of_words.count(items)/len(queries))*100}%\")\n",
    "\n",
    "\n",
    "# Variant 2 (po zadaniju)\n",
    "\n",
    "print(f\"поисковых запросов из одного - слова {(list_with_count_of_words.count(0)/len(queries))*100}%, из двух - {(list_with_count_of_words.count(1)/len(queries))*100}%, из трех {(list_with_count_of_words.count(2)/len(queries))*100}% \")\n",
    "\n"
   ]
  },
  {
   "cell_type": "markdown",
   "metadata": {},
   "source": [
    "**Задание 4**. Дана статистика рекламных каналов по объемам продаж. Напишите скрипт, который возвращает название канала с максимальным объемом.\n",
    "Т. е. в данном примере скрипт должен возвращать 'yandex'."
   ]
  },
  {
   "cell_type": "code",
   "execution_count": 60,
   "metadata": {},
   "outputs": [],
   "source": [
    "stats = {'facebook': 55, 'yandex': 120, 'vk': 115, 'google': 99, 'email': 42, 'ok': 98}"
   ]
  },
  {
   "cell_type": "code",
   "execution_count": 61,
   "metadata": {},
   "outputs": [
    {
     "name": "stdout",
     "output_type": "stream",
     "text": [
      "название канала с максимальным объемом: yandex\n"
     ]
    }
   ],
   "source": [
    "maxi = 0\n",
    "kanal = \"\"\n",
    "\n",
    "for keys, values in stats.items():\n",
    "    if  values > maxi:\n",
    "        maxi = values\n",
    "        kanal = keys\n",
    "\n",
    "\n",
    "print(f\"название канала с максимальным объемом: {kanal}\")\n",
    "\n"
   ]
  },
  {
   "cell_type": "markdown",
   "metadata": {},
   "source": [
    "**Задание 5**. Напишите код для преобразования произвольного списка вида ['2018-01-01', 'yandex', 'cpc', 100] (он может быть любой длины) в словарь {'2018-01-01': {'yandex': {'cpc': 100}}}"
   ]
  },
  {
   "cell_type": "code",
   "execution_count": 96,
   "metadata": {},
   "outputs": [
    {
     "name": "stdout",
     "output_type": "stream",
     "text": [
      "{'2018-01-01': {'yandex': {'cpc': {100: {'two': {'one': 44}}}}}}\n"
     ]
    }
   ],
   "source": [
    "example = ['2018-01-01', 'yandex', 'cpc', 100, 'two', 'one', 44]\n",
    "\n",
    "result = {example[-2]:example[-1]}\n",
    "for i in  list(range(len(example)-3, -1, -1)):\n",
    "    result = {example[i]:result}  \n",
    "print (result)"
   ]
  }
 ],
 "metadata": {
  "kernelspec": {
   "display_name": "Python 3",
   "language": "python",
   "name": "python3"
  },
  "language_info": {
   "codemirror_mode": {
    "name": "ipython",
    "version": 3
   },
   "file_extension": ".py",
   "mimetype": "text/x-python",
   "name": "python",
   "nbconvert_exporter": "python",
   "pygments_lexer": "ipython3",
   "version": "3.7.4"
  }
 },
 "nbformat": 4,
 "nbformat_minor": 2
}
